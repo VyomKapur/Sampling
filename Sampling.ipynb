{
 "cells": [
  {
   "cell_type": "code",
   "execution_count": 1,
   "id": "97743074",
   "metadata": {},
   "outputs": [],
   "source": [
    "import numpy as np\n",
    "import pandas as pd\n",
    "import matplotlib.pyplot as plt"
   ]
  },
  {
   "cell_type": "code",
   "execution_count": 2,
   "id": "f4a2f35f",
   "metadata": {},
   "outputs": [],
   "source": [
    "data = pd.read_csv(\"data.csv\")"
   ]
  },
  {
   "cell_type": "code",
   "execution_count": 3,
   "id": "4cb06ddf",
   "metadata": {},
   "outputs": [
    {
     "data": {
      "text/html": [
       "<div>\n",
       "<style scoped>\n",
       "    .dataframe tbody tr th:only-of-type {\n",
       "        vertical-align: middle;\n",
       "    }\n",
       "\n",
       "    .dataframe tbody tr th {\n",
       "        vertical-align: top;\n",
       "    }\n",
       "\n",
       "    .dataframe thead th {\n",
       "        text-align: right;\n",
       "    }\n",
       "</style>\n",
       "<table border=\"1\" class=\"dataframe\">\n",
       "  <thead>\n",
       "    <tr style=\"text-align: right;\">\n",
       "      <th></th>\n",
       "      <th>Time</th>\n",
       "      <th>V1</th>\n",
       "      <th>V2</th>\n",
       "      <th>V3</th>\n",
       "      <th>V4</th>\n",
       "      <th>V5</th>\n",
       "      <th>V6</th>\n",
       "      <th>V7</th>\n",
       "      <th>V8</th>\n",
       "      <th>V9</th>\n",
       "      <th>...</th>\n",
       "      <th>V21</th>\n",
       "      <th>V22</th>\n",
       "      <th>V23</th>\n",
       "      <th>V24</th>\n",
       "      <th>V25</th>\n",
       "      <th>V26</th>\n",
       "      <th>V27</th>\n",
       "      <th>V28</th>\n",
       "      <th>Amount</th>\n",
       "      <th>Class</th>\n",
       "    </tr>\n",
       "  </thead>\n",
       "  <tbody>\n",
       "    <tr>\n",
       "      <th>0</th>\n",
       "      <td>0</td>\n",
       "      <td>-1.359807</td>\n",
       "      <td>-0.072781</td>\n",
       "      <td>2.536347</td>\n",
       "      <td>1.378155</td>\n",
       "      <td>-0.338321</td>\n",
       "      <td>0.462388</td>\n",
       "      <td>0.239599</td>\n",
       "      <td>0.098698</td>\n",
       "      <td>0.363787</td>\n",
       "      <td>...</td>\n",
       "      <td>-0.018307</td>\n",
       "      <td>0.277838</td>\n",
       "      <td>-0.110474</td>\n",
       "      <td>0.066928</td>\n",
       "      <td>0.128539</td>\n",
       "      <td>-0.189115</td>\n",
       "      <td>0.133558</td>\n",
       "      <td>-0.021053</td>\n",
       "      <td>149.62</td>\n",
       "      <td>0</td>\n",
       "    </tr>\n",
       "    <tr>\n",
       "      <th>1</th>\n",
       "      <td>0</td>\n",
       "      <td>1.191857</td>\n",
       "      <td>0.266151</td>\n",
       "      <td>0.166480</td>\n",
       "      <td>0.448154</td>\n",
       "      <td>0.060018</td>\n",
       "      <td>-0.082361</td>\n",
       "      <td>-0.078803</td>\n",
       "      <td>0.085102</td>\n",
       "      <td>-0.255425</td>\n",
       "      <td>...</td>\n",
       "      <td>-0.225775</td>\n",
       "      <td>-0.638672</td>\n",
       "      <td>0.101288</td>\n",
       "      <td>-0.339846</td>\n",
       "      <td>0.167170</td>\n",
       "      <td>0.125895</td>\n",
       "      <td>-0.008983</td>\n",
       "      <td>0.014724</td>\n",
       "      <td>2.69</td>\n",
       "      <td>1</td>\n",
       "    </tr>\n",
       "    <tr>\n",
       "      <th>2</th>\n",
       "      <td>1</td>\n",
       "      <td>-1.358354</td>\n",
       "      <td>-1.340163</td>\n",
       "      <td>1.773209</td>\n",
       "      <td>0.379780</td>\n",
       "      <td>-0.503198</td>\n",
       "      <td>1.800499</td>\n",
       "      <td>0.791461</td>\n",
       "      <td>0.247676</td>\n",
       "      <td>-1.514654</td>\n",
       "      <td>...</td>\n",
       "      <td>0.247998</td>\n",
       "      <td>0.771679</td>\n",
       "      <td>0.909412</td>\n",
       "      <td>-0.689281</td>\n",
       "      <td>-0.327642</td>\n",
       "      <td>-0.139097</td>\n",
       "      <td>-0.055353</td>\n",
       "      <td>-0.059752</td>\n",
       "      <td>378.66</td>\n",
       "      <td>0</td>\n",
       "    </tr>\n",
       "    <tr>\n",
       "      <th>3</th>\n",
       "      <td>1</td>\n",
       "      <td>-0.966272</td>\n",
       "      <td>-0.185226</td>\n",
       "      <td>1.792993</td>\n",
       "      <td>-0.863291</td>\n",
       "      <td>-0.010309</td>\n",
       "      <td>1.247203</td>\n",
       "      <td>0.237609</td>\n",
       "      <td>0.377436</td>\n",
       "      <td>-1.387024</td>\n",
       "      <td>...</td>\n",
       "      <td>-0.108300</td>\n",
       "      <td>0.005274</td>\n",
       "      <td>-0.190321</td>\n",
       "      <td>-1.175575</td>\n",
       "      <td>0.647376</td>\n",
       "      <td>-0.221929</td>\n",
       "      <td>0.062723</td>\n",
       "      <td>0.061458</td>\n",
       "      <td>123.50</td>\n",
       "      <td>0</td>\n",
       "    </tr>\n",
       "    <tr>\n",
       "      <th>4</th>\n",
       "      <td>2</td>\n",
       "      <td>-1.158233</td>\n",
       "      <td>0.877737</td>\n",
       "      <td>1.548718</td>\n",
       "      <td>0.403034</td>\n",
       "      <td>-0.407193</td>\n",
       "      <td>0.095921</td>\n",
       "      <td>0.592941</td>\n",
       "      <td>-0.270533</td>\n",
       "      <td>0.817739</td>\n",
       "      <td>...</td>\n",
       "      <td>-0.009431</td>\n",
       "      <td>0.798278</td>\n",
       "      <td>-0.137458</td>\n",
       "      <td>0.141267</td>\n",
       "      <td>-0.206010</td>\n",
       "      <td>0.502292</td>\n",
       "      <td>0.219422</td>\n",
       "      <td>0.215153</td>\n",
       "      <td>69.99</td>\n",
       "      <td>0</td>\n",
       "    </tr>\n",
       "  </tbody>\n",
       "</table>\n",
       "<p>5 rows × 31 columns</p>\n",
       "</div>"
      ],
      "text/plain": [
       "   Time        V1        V2        V3        V4        V5        V6        V7  \\\n",
       "0     0 -1.359807 -0.072781  2.536347  1.378155 -0.338321  0.462388  0.239599   \n",
       "1     0  1.191857  0.266151  0.166480  0.448154  0.060018 -0.082361 -0.078803   \n",
       "2     1 -1.358354 -1.340163  1.773209  0.379780 -0.503198  1.800499  0.791461   \n",
       "3     1 -0.966272 -0.185226  1.792993 -0.863291 -0.010309  1.247203  0.237609   \n",
       "4     2 -1.158233  0.877737  1.548718  0.403034 -0.407193  0.095921  0.592941   \n",
       "\n",
       "         V8        V9  ...       V21       V22       V23       V24       V25  \\\n",
       "0  0.098698  0.363787  ... -0.018307  0.277838 -0.110474  0.066928  0.128539   \n",
       "1  0.085102 -0.255425  ... -0.225775 -0.638672  0.101288 -0.339846  0.167170   \n",
       "2  0.247676 -1.514654  ...  0.247998  0.771679  0.909412 -0.689281 -0.327642   \n",
       "3  0.377436 -1.387024  ... -0.108300  0.005274 -0.190321 -1.175575  0.647376   \n",
       "4 -0.270533  0.817739  ... -0.009431  0.798278 -0.137458  0.141267 -0.206010   \n",
       "\n",
       "        V26       V27       V28  Amount  Class  \n",
       "0 -0.189115  0.133558 -0.021053  149.62      0  \n",
       "1  0.125895 -0.008983  0.014724    2.69      1  \n",
       "2 -0.139097 -0.055353 -0.059752  378.66      0  \n",
       "3 -0.221929  0.062723  0.061458  123.50      0  \n",
       "4  0.502292  0.219422  0.215153   69.99      0  \n",
       "\n",
       "[5 rows x 31 columns]"
      ]
     },
     "execution_count": 3,
     "metadata": {},
     "output_type": "execute_result"
    }
   ],
   "source": [
    "data.head()"
   ]
  },
  {
   "cell_type": "code",
   "execution_count": 4,
   "id": "0a385b54",
   "metadata": {},
   "outputs": [
    {
     "data": {
      "text/plain": [
       "(772, 31)"
      ]
     },
     "execution_count": 4,
     "metadata": {},
     "output_type": "execute_result"
    }
   ],
   "source": [
    "data.shape"
   ]
  },
  {
   "cell_type": "code",
   "execution_count": 5,
   "id": "72f8a110",
   "metadata": {},
   "outputs": [],
   "source": [
    "class_type, class_count = np.unique(data.Class, return_counts=True)"
   ]
  },
  {
   "cell_type": "code",
   "execution_count": 6,
   "id": "0d78a2df",
   "metadata": {},
   "outputs": [
    {
     "data": {
      "text/plain": [
       "array([763,   9])"
      ]
     },
     "execution_count": 6,
     "metadata": {},
     "output_type": "execute_result"
    }
   ],
   "source": [
    "class_count"
   ]
  },
  {
   "cell_type": "code",
   "execution_count": 7,
   "id": "218bec7e",
   "metadata": {},
   "outputs": [
    {
     "data": {
      "image/png": "[encoded data removed]",
      "text/plain": [
       "<Figure size 640x480 with 1 Axes>"
      ]
     },
     "metadata": {},
     "output_type": "display_data"
    }
   ],
   "source": [
    "plt.pie(class_count, labels=class_type)\n",
    "plt.show()"
   ]
  },
  {
   "cell_type": "markdown",
   "id": "d1893016",
   "metadata": {},
   "source": [
    "## Step 1: Creating a balanced Dataset"
   ]
  },
  {
   "cell_type": "markdown",
   "id": "59789c2d",
   "metadata": {},
   "source": [
    "Since our dataset contains very little entities of class B, thus we would use oversampling and create 756 samples of class B by repeating those 9 samples 84 times. For this, I shall use the concat function to merge 84 times the data of class 1 and one times the data of class 0. "
   ]
  },
  {
   "cell_type": "code",
   "execution_count": 8,
   "id": "7f2a8a6b",
   "metadata": {},
   "outputs": [],
   "source": [
    "df = pd.concat([data[data.Class == 1]]*84, ignore_index=True)\n",
    "df = pd.concat([df, data[data.Class == 0]])"
   ]
  },
  {
   "cell_type": "code",
   "execution_count": 9,
   "id": "e59f0d76",
   "metadata": {},
   "outputs": [
    {
     "data": {
      "text/plain": [
       "(1519, 31)"
      ]
     },
     "execution_count": 9,
     "metadata": {},
     "output_type": "execute_result"
    }
   ],
   "source": [
    "df.shape"
   ]
  },
  {
   "cell_type": "code",
   "execution_count": 10,
   "id": "f8e65703",
   "metadata": {},
   "outputs": [
    {
     "data": {
      "text/plain": [
       "array([763, 756])"
      ]
     },
     "execution_count": 10,
     "metadata": {},
     "output_type": "execute_result"
    }
   ],
   "source": [
    "class_type, class_count = np.unique(df.Class, return_counts=True)\n",
    "class_count"
   ]
  },
  {
   "cell_type": "markdown",
   "id": "d20ddc22",
   "metadata": {},
   "source": [
    "Now, our dataset is more balanced, with fraudalent cases having 756 entries and non-fraudulent credit card entries having 763 entries."
   ]
  },
  {
   "cell_type": "markdown",
   "id": "d5a7eb33",
   "metadata": {},
   "source": [
    "## Step 2: Sampling"
   ]
  },
  {
   "cell_type": "markdown",
   "id": "f7cb9008",
   "metadata": {},
   "source": [
    "For all sample size calculations, I will assume the confidence level to be 95% and margin of error to be 5%. Thus my E = 0.05 and my Z = 1.96"
   ]
  },
  {
   "cell_type": "markdown",
   "id": "0f1a3cb5",
   "metadata": {},
   "source": [
    "### Simple Random Sampling Without Replacement"
   ]
  },
  {
   "cell_type": "markdown",
   "id": "2b1806fe",
   "metadata": {},
   "source": [
    "n = (Z^2 x P x (1-P))/(E^2)\n",
    "\n",
    "where, Z = 1.96, P = 763/1519 and E = 0.05.\n",
    "\n",
    "Plugging in the values, we get: n = 384.151 ~ 384"
   ]
  },
  {
   "cell_type": "code",
   "execution_count": 17,
   "id": "5967afe3",
   "metadata": {},
   "outputs": [],
   "source": [
    "sample1 = df.sample(n=384)"
   ]
  },
  {
   "cell_type": "markdown",
   "id": "8a6b6b2b",
   "metadata": {},
   "source": [
    "### Simple Random Sampling With Replacement"
   ]
  },
  {
   "cell_type": "markdown",
   "id": "ee7f26e5",
   "metadata": {},
   "source": [
    "n = (Z^2 x P x (1-P))/(E^2)\n",
    "\n",
    "where, Z = 1.96, P = 763/1519 and E = 0.05.\n",
    "\n",
    "Plugging in the values, we get: n = 384.151 ~ 384"
   ]
  },
  {
   "cell_type": "code",
   "execution_count": 16,
   "id": "68594bd9",
   "metadata": {},
   "outputs": [],
   "source": [
    "sample2 = df.sample(n=384, replace=True)"
   ]
  },
  {
   "cell_type": "markdown",
   "id": "dabb8e7c",
   "metadata": {},
   "source": [
    "### Stratified Sampling"
   ]
  },
  {
   "cell_type": "markdown",
   "id": "a66d48c6",
   "metadata": {},
   "source": [
    "n = (Z^2 x P x (1-P))/(E/S)^2\n",
    "\n",
    "where, Z = 1.96, P = 763/1519, E = 0.05 and S =2.\n",
    "\n",
    "Plugging in the values, we get: n = 1536.607 ~ 1536"
   ]
  },
  {
   "cell_type": "code",
   "execution_count": 19,
   "id": "c2e4b608",
   "metadata": {
    "scrolled": true
   },
   "outputs": [],
   "source": [
    "sample3 = df[df.Class == 0].sample(n=768, replace=True)\n",
    "sample3 = pd.concat([sample3,df[df.Class == 1].sample(n=768, replace=True)])"
   ]
  },
  {
   "cell_type": "markdown",
   "id": "52770641",
   "metadata": {},
   "source": [
    "### Systematic Sampling"
   ]
  },
  {
   "cell_type": "markdown",
   "id": "fc0be5df",
   "metadata": {},
   "source": [
    "n = (Z^2 x P x (1-P))/(E^2)\n",
    "\n",
    "where, Z = 1.96, P = 763/1519 and E = 0.05.\n",
    "\n",
    "Plugging in the values, we get: n = 384.151 ~ 384\n",
    "\n",
    "So, we can sample every 1591/384 row"
   ]
  },
  {
   "cell_type": "code",
   "execution_count": 24,
   "id": "df667782",
   "metadata": {},
   "outputs": [],
   "source": [
    "temp = df.iloc[::3,]\n",
    "sample4 = temp.sample(n=384)"
   ]
  },
  {
   "cell_type": "markdown",
   "id": "371eda13",
   "metadata": {},
   "source": [
    "### Cluster Sampling"
   ]
  },
  {
   "cell_type": "markdown",
   "id": "e85f0529",
   "metadata": {},
   "source": [
    "n = (Z^2 x P x (1-P))/((E/C)^2)\n",
    "\n",
    "where, Z = m1.96, P = 763/1519, E = 0.05 and C = 2.\n",
    "\n",
    "Plugging in the values, we get: n = 1536.607 ~ 1536"
   ]
  },
  {
   "cell_type": "code",
   "execution_count": 30,
   "id": "60436cb6",
   "metadata": {},
   "outputs": [],
   "source": [
    "cluster1 = df.iloc[0:759,:]\n",
    "cluster2 = df.iloc[759:,:]\n",
    "sample5 = pd.concat([cluster1.sample(n=768, replace=True), cluster2.sample(n=768, replace=True)])"
   ]
  },
  {
   "cell_type": "markdown",
   "id": "c799028b",
   "metadata": {},
   "source": [
    "## Step 3: Applying ML Models on the Samples"
   ]
  },
  {
   "cell_type": "code",
   "execution_count": 34,
   "id": "02493c0f",
   "metadata": {},
   "outputs": [],
   "source": [
    "from sklearn.linear_model import LogisticRegression\n",
    "from sklearn.tree import DecisionTreeClassifier\n",
    "from sklearn.ensemble import RandomForestClassifier\n",
    "from sklearn.svm import SVC\n",
    "from sklearn.neighbors import KNeighborsClassifier\n",
    "from sklearn.model_selection import train_test_split"
   ]
  },
  {
   "cell_type": "code",
   "execution_count": 33,
   "id": "1b5a89f1",
   "metadata": {},
   "outputs": [],
   "source": [
    "lr = LogisticRegression()\n",
    "dtc = DecisionTreeClassifier()\n",
    "rfc = RandomForestClassifier()\n",
    "svc = SVC()\n",
    "knn = KNeighborsClassifier()"
   ]
  },
  {
   "cell_type": "code",
   "execution_count": 46,
   "id": "f5805bf6",
   "metadata": {},
   "outputs": [],
   "source": [
    "def apply_model_on_sample(sample):\n",
    "    accuracy = []\n",
    "    \n",
    "    x_train, x_test, y_train, y_test = train_test_split(sample.iloc[:,:30], sample.iloc[:,30])\n",
    "    \n",
    "    lr = LogisticRegression(max_iter=1000)\n",
    "    dtc = DecisionTreeClassifier()\n",
    "    rfc = RandomForestClassifier()\n",
    "    svc = SVC()\n",
    "    knn = KNeighborsClassifier()\n",
    "    \n",
    "    lr.fit(x_train, y_train)\n",
    "    dtc.fit(x_train, y_train)\n",
    "    rfc.fit(x_train, y_train)\n",
    "    svc.fit(x_train, y_train)\n",
    "    knn.fit(x_train, y_train)\n",
    "    \n",
    "    accuracy.append(lr.score(x_test, y_test))\n",
    "    accuracy.append(dtc.score(x_test, y_test))\n",
    "    accuracy.append(rfc.score(x_test, y_test))\n",
    "    accuracy.append(svc.score(x_test, y_test))\n",
    "    accuracy.append(knn.score(x_test, y_test))\n",
    "    \n",
    "    return accuracy"
   ]
  },
  {
   "cell_type": "code",
   "execution_count": 47,
   "id": "1ec6124a",
   "metadata": {},
   "outputs": [
    {
     "name": "stderr",
     "output_type": "stream",
     "text": [
      "/home/movy/anaconda3/lib/python3.9/site-packages/sklearn/linear_model/_logistic.py:762: ConvergenceWarning: lbfgs failed to converge (status=1):\n",
      "STOP: TOTAL NO. of ITERATIONS REACHED LIMIT.\n",
      "\n",
      "Increase the number of iterations (max_iter) or scale the data as shown in:\n",
      "    https://scikit-learn.org/stable/modules/preprocessing.html\n",
      "Please also refer to the documentation for alternative solver options:\n",
      "    https://scikit-learn.org/stable/modules/linear_model.html#logistic-regression\n",
      "  n_iter_i = _check_optimize_result(\n",
      "/home/movy/anaconda3/lib/python3.9/site-packages/sklearn/linear_model/_logistic.py:762: ConvergenceWarning: lbfgs failed to converge (status=1):\n",
      "STOP: TOTAL NO. of ITERATIONS REACHED LIMIT.\n",
      "\n",
      "Increase the number of iterations (max_iter) or scale the data as shown in:\n",
      "    https://scikit-learn.org/stable/modules/preprocessing.html\n",
      "Please also refer to the documentation for alternative solver options:\n",
      "    https://scikit-learn.org/stable/modules/linear_model.html#logistic-regression\n",
      "  n_iter_i = _check_optimize_result(\n"
     ]
    }
   ],
   "source": [
    "samples = [sample1, sample2, sample3, sample4, sample5]\n",
    "\n",
    "accuracy = []\n",
    "for sample in samples:\n",
    "    accuracy.append(apply_model_on_sample(sample))"
   ]
  },
  {
   "cell_type": "code",
   "execution_count": 48,
   "id": "9e7706f2",
   "metadata": {},
   "outputs": [
    {
     "data": {
      "text/plain": [
       "[[0.9479166666666666, 0.96875, 1.0, 0.78125, 0.90625],\n",
       " [0.8541666666666666, 0.9791666666666666, 1.0, 0.71875, 0.9375],\n",
       " [0.9270833333333334, 1.0, 1.0, 0.734375, 0.9895833333333334],\n",
       " [1.0, 0.96875, 1.0, 0.84375, 0.9895833333333334],\n",
       " [0.9348958333333334, 0.9921875, 1.0, 0.7005208333333334, 0.9869791666666666]]"
      ]
     },
     "execution_count": 48,
     "metadata": {},
     "output_type": "execute_result"
    }
   ],
   "source": [
    "accuracy"
   ]
  }
 ],
 "metadata": {
  "kernelspec": {
   "display_name": "Python 3 (ipykernel)",
   "language": "python",
   "name": "python3"
  },
  "language_info": {
   "codemirror_mode": {
    "name": "ipython",
    "version": 3
   },
   "file_extension": ".py",
   "mimetype": "text/x-python",
   "name": "python",
   "nbconvert_exporter": "python",
   "pygments_lexer": "ipython3",
   "version": "3.9.13"
  }
 },
 "nbformat": 4,
 "nbformat_minor": 5
}
